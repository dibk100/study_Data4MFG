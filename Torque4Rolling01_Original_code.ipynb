{
 "cells": [
  {
   "cell_type": "code",
   "execution_count": 1,
   "metadata": {
    "id": "2Z45HOHSJJso"
   },
   "outputs": [],
   "source": [
    "from utils import *         # 데이터 전처리 함수 및 활용 함수      \n",
    "from model import *"
   ]
  },
  {
   "cell_type": "markdown",
   "metadata": {
    "id": "j3oJmQoAMRr8"
   },
   "source": [
    "# 롤토크 데이터\n"
   ]
  },
  {
   "cell_type": "code",
   "execution_count": 3,
   "metadata": {
    "id": "pDCHwQefjbl9"
   },
   "outputs": [],
   "source": [
    "# 데이터 전처리 완료\n",
    "df,Category_variables,Numeric_variables,Target_variables = data_processing()"
   ]
  },
  {
   "cell_type": "markdown",
   "metadata": {
    "id": "QlqVBb55hHWq"
   },
   "source": [
    "#### 데이터 나누기"
   ]
  },
  {
   "cell_type": "code",
   "execution_count": 4,
   "metadata": {
    "id": "e--Y_kLqlODQ"
   },
   "outputs": [],
   "source": [
    "df_cat1 = df[df['Temperature'] < 1100].copy().reset_index(drop=True)                                            # 인덱스 왜 새로하지?\n",
    "df_cat2 = df[(df['Temperature'] >= 1100) & (df['Temperature'] < 1120)].copy().reset_index(drop=True)\n",
    "df_cat3 = df[(df['Temperature'] >= 1120) & (df['Temperature'] < 1140)].copy().reset_index(drop=True)\n",
    "df_cat4 = df[(df['Temperature'] >= 1140) & (df['Temperature'] < 1160)].copy().reset_index(drop=True)\n",
    "df_cat5 = df[df['Temperature'] >= 1160].copy().reset_index(drop=True)\n",
    "\n",
    "df_all = df.copy()\n",
    "\n",
    "splits = {\n",
    "    '온도 1구간(~1100)':df_cat1,\n",
    "    '온도 2구간(1100~1120)':df_cat2,\n",
    "    '온도 3구간(1120~1140)':df_cat3,\n",
    "    '온도 4구간(1140~1160)':df_cat4,\n",
    "    '온도 5구간(1160~)':df_cat5,\n",
    "    '전제 데이터(전체 온도)' : df_all\n",
    "\n",
    "}"
   ]
  },
  {
   "cell_type": "code",
   "execution_count": 5,
   "metadata": {},
   "outputs": [
    {
     "name": "stdout",
     "output_type": "stream",
     "text": [
      "==== Training on 온도 1구간(~1100) dataset ====\n"
     ]
    },
    {
     "name": "stderr",
     "output_type": "stream",
     "text": [
      "c:\\Users\\DANIK\\anaconda3\\envs\\diwork_latest\\lib\\site-packages\\sklearn\\base.py:1389: DataConversionWarning: A column-vector y was passed when a 1d array was expected. Please change the shape of y to (n_samples,), for example using ravel().\n",
      "  return fit_method(estimator, *args, **kwargs)\n"
     ]
    },
    {
     "name": "stdout",
     "output_type": "stream",
     "text": [
      "MSE :  448.72906113935846\n",
      "RMSE :  21.183225937976456\n",
      "R_score :  0.9557658249978153\n",
      "==== Training on 온도 2구간(1100~1120) dataset ====\n"
     ]
    },
    {
     "name": "stderr",
     "output_type": "stream",
     "text": [
      "c:\\Users\\DANIK\\anaconda3\\envs\\diwork_latest\\lib\\site-packages\\sklearn\\base.py:1389: DataConversionWarning: A column-vector y was passed when a 1d array was expected. Please change the shape of y to (n_samples,), for example using ravel().\n",
      "  return fit_method(estimator, *args, **kwargs)\n"
     ]
    },
    {
     "name": "stdout",
     "output_type": "stream",
     "text": [
      "MSE :  1236.4422544069587\n",
      "RMSE :  35.163080843506286\n",
      "R_score :  0.8938350119912032\n",
      "==== Training on 온도 3구간(1120~1140) dataset ====\n"
     ]
    },
    {
     "name": "stderr",
     "output_type": "stream",
     "text": [
      "c:\\Users\\DANIK\\anaconda3\\envs\\diwork_latest\\lib\\site-packages\\sklearn\\base.py:1389: DataConversionWarning: A column-vector y was passed when a 1d array was expected. Please change the shape of y to (n_samples,), for example using ravel().\n",
      "  return fit_method(estimator, *args, **kwargs)\n"
     ]
    },
    {
     "name": "stdout",
     "output_type": "stream",
     "text": [
      "MSE :  760.0391274306667\n",
      "RMSE :  27.568807145588774\n",
      "R_score :  0.9103418446585696\n",
      "==== Training on 온도 4구간(1140~1160) dataset ====\n"
     ]
    },
    {
     "name": "stderr",
     "output_type": "stream",
     "text": [
      "c:\\Users\\DANIK\\anaconda3\\envs\\diwork_latest\\lib\\site-packages\\sklearn\\base.py:1389: DataConversionWarning: A column-vector y was passed when a 1d array was expected. Please change the shape of y to (n_samples,), for example using ravel().\n",
      "  return fit_method(estimator, *args, **kwargs)\n"
     ]
    },
    {
     "name": "stdout",
     "output_type": "stream",
     "text": [
      "MSE :  486.50868788682783\n",
      "RMSE :  22.05694194322567\n",
      "R_score :  0.9362709116218\n",
      "==== Training on 온도 5구간(1160~) dataset ====\n"
     ]
    },
    {
     "name": "stderr",
     "output_type": "stream",
     "text": [
      "c:\\Users\\DANIK\\anaconda3\\envs\\diwork_latest\\lib\\site-packages\\sklearn\\base.py:1389: DataConversionWarning: A column-vector y was passed when a 1d array was expected. Please change the shape of y to (n_samples,), for example using ravel().\n",
      "  return fit_method(estimator, *args, **kwargs)\n"
     ]
    },
    {
     "name": "stdout",
     "output_type": "stream",
     "text": [
      "MSE :  493.165981842852\n",
      "RMSE :  22.207340719745172\n",
      "R_score :  0.9572680488312735\n",
      "==== Training on 전제 데이터(전체 온도) dataset ====\n"
     ]
    },
    {
     "name": "stderr",
     "output_type": "stream",
     "text": [
      "c:\\Users\\DANIK\\anaconda3\\envs\\diwork_latest\\lib\\site-packages\\sklearn\\base.py:1389: DataConversionWarning: A column-vector y was passed when a 1d array was expected. Please change the shape of y to (n_samples,), for example using ravel().\n",
      "  return fit_method(estimator, *args, **kwargs)\n"
     ]
    },
    {
     "name": "stdout",
     "output_type": "stream",
     "text": [
      "MSE :  661.4861825380426\n",
      "RMSE :  25.719373680905267\n",
      "R_score :  0.937778854099706\n"
     ]
    }
   ],
   "source": [
    "# 시간 오래 걸림\n",
    "results = {}\n",
    "model = get_model(model_name='random_forest',max_depth = 10, random_state=0)\n",
    "\n",
    "for label,value in splits.items():\n",
    "        result = train_and_eval(model, value, label ,Category_variables,Numeric_variables,Target_variables)\n",
    "        results[label] = result\n"
   ]
  },
  {
   "cell_type": "code",
   "execution_count": 6,
   "metadata": {},
   "outputs": [
    {
     "name": "stdout",
     "output_type": "stream",
     "text": [
      "###   전체 결과   ###\n",
      "                           MSE       RMSE  R² Score\n",
      "구간                                                 \n",
      "온도 1구간(~1100)       448.729061  21.183226  0.955766\n",
      "온도 2구간(1100~1120)  1236.442254  35.163081  0.893835\n",
      "온도 3구간(1120~1140)   760.039127  27.568807  0.910342\n",
      "온도 4구간(1140~1160)   486.508688  22.056942  0.936271\n",
      "온도 5구간(1160~)       493.165982  22.207341  0.957268\n",
      "전제 데이터(전체 온도)       661.486183  25.719374  0.937779\n",
      "###   평균 결과   ###\n",
      "                        MSE    RMSE  R² Score\n",
      "온도 1구간(~1100)       448.729  21.183     0.956\n",
      "온도 2구간(1100~1120)  1236.442  35.163     0.894\n",
      "온도 3구간(1120~1140)   760.039  27.569     0.910\n",
      "온도 4구간(1140~1160)   486.509  22.057     0.936\n",
      "온도 5구간(1160~)       493.166  22.207     0.957\n",
      "전제 데이터(전체 온도)       661.486  25.719     0.938\n",
      "평균 (온도 1~5구간)       684.977  25.636     0.931\n"
     ]
    }
   ],
   "source": [
    "show_Result(results)"
   ]
  },
  {
   "cell_type": "code",
   "execution_count": 7,
   "metadata": {},
   "outputs": [],
   "source": [
    "# results_ada = {}\n",
    "# model_ada = get_model(model_name='adaboost',n_estimators = 100, random_state=0)\n",
    "\n",
    "# for label,value in splits.items():\n",
    "#         result_ada = train_and_eval(model, value, label ,Category_variables,Numeric_variables,Target_variables)\n",
    "#         results_ada[label] = result_ada\n"
   ]
  },
  {
   "cell_type": "code",
   "execution_count": 8,
   "metadata": {},
   "outputs": [],
   "source": [
    "# show_Result(results_ada)"
   ]
  },
  {
   "cell_type": "markdown",
   "metadata": {},
   "source": [
    "---"
   ]
  }
 ],
 "metadata": {
  "colab": {
   "provenance": [],
   "toc_visible": true
  },
  "kernelspec": {
   "display_name": "diwork_latest",
   "language": "python",
   "name": "python3"
  },
  "language_info": {
   "codemirror_mode": {
    "name": "ipython",
    "version": 3
   },
   "file_extension": ".py",
   "mimetype": "text/x-python",
   "name": "python",
   "nbconvert_exporter": "python",
   "pygments_lexer": "ipython3",
   "version": "3.10.16"
  }
 },
 "nbformat": 4,
 "nbformat_minor": 0
}
